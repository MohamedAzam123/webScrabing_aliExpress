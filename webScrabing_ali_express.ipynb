{
 "cells": [
  {
   "cell_type": "code",
   "execution_count": 27,
   "id": "31cee8fc-4ddb-44fc-a352-58ee31477729",
   "metadata": {},
   "outputs": [],
   "source": [
    "import requests\n",
    "from bs4 import BeautifulSoup\n",
    "import csv\n",
    "from itertools import zip_longest"
   ]
  },
  {
   "cell_type": "code",
   "execution_count": 29,
   "id": "3f97ef6d-5537-46de-ad81-d8f5b8f05028",
   "metadata": {},
   "outputs": [],
   "source": [
    "page=requests.get(\"https://ar.aliexpress.com/w/wholesale-%D8%A3%D8%AC%D9%87%D8%B2%D8%A9-%D8%A3%D9%84%D8%B9%D8%A7%D8%A8-%D8%A7%D9%84%D9%81%D9%8A%D8%AF%D9%8A%D9%88.html?spm=a2g0o.categorymp.0.0.6d1fSyBySyByru&categoryUrlParams=%7B%22q%22%3A%22%D8%A3%D8%AC%D9%87%D8%B2%D8%A9%20%D8%A3%D9%84%D8%B9%D8%A7%D8%A8%20%D8%A7%D9%84%D9%81%D9%8A%D8%AF%D9%8A%D9%88%22%2C%22s%22%3A%22qp_nw%22%2C%22osf%22%3A%22category_navigate%22%2C%22sg_search_params%22%3A%22%22%2C%22guide_trace%22%3A%22ad744c37-763b-489e-8d36-24901944a2ef%22%2C%22scene_id%22%3A%2237749%22%2C%22searchBizScene%22%3A%22openSearch%22%2C%22recog_lang%22%3A%22ar%22%2C%22bizScene%22%3A%22category_navigate%22%2C%22guideModule%22%3A%22category_navigate_vertical%22%2C%22postCatIds%22%3A%2244%22%2C%22scene%22%3A%22category_navigate%22%7D&isFromCategory=y\")"
   ]
  },
  {
   "cell_type": "code",
   "execution_count": 30,
   "id": "061e43af-808d-446d-8610-17e838dbba0b",
   "metadata": {},
   "outputs": [],
   "source": [
    "src=page.content"
   ]
  },
  {
   "cell_type": "code",
   "execution_count": 31,
   "id": "7605db67-4915-4ca6-bbbc-4a9674b9037e",
   "metadata": {},
   "outputs": [],
   "source": [
    "soup=BeautifulSoup(src,\"html.parser\")"
   ]
  },
  {
   "cell_type": "code",
   "execution_count": 33,
   "id": "57424bc9-b289-4281-8311-dc000ea6542c",
   "metadata": {},
   "outputs": [],
   "source": [
    "vedio_games_name=soup.find_all(\"h3\",{\"class\":\"kr_j0\"})"
   ]
  },
  {
   "cell_type": "code",
   "execution_count": 35,
   "id": "c5e06d3a-ed27-4dba-99e7-b6476e9c0110",
   "metadata": {},
   "outputs": [],
   "source": [
    "price=soup.find_all(\"div\",{\"class\":\"kr_kj\"})"
   ]
  },
  {
   "cell_type": "code",
   "execution_count": 38,
   "id": "b32924f4-c3de-427d-b1ad-f282a0a7aa2a",
   "metadata": {},
   "outputs": [],
   "source": [
    "discount=soup.find_all(\"span\",{\"class\":\"kr_lk\"})"
   ]
  },
  {
   "cell_type": "code",
   "execution_count": 39,
   "id": "62e5d7ed-de82-4ccd-8fe2-d4d72a9ab53e",
   "metadata": {},
   "outputs": [],
   "source": [
    "vedio_games_names = []"
   ]
  },
  {
   "cell_type": "code",
   "execution_count": 40,
   "id": "5ab91d97-3da8-4582-891f-acfaa5316d1a",
   "metadata": {},
   "outputs": [],
   "source": [
    "prices = []"
   ]
  },
  {
   "cell_type": "code",
   "execution_count": 44,
   "id": "8cc1edaa-92b3-45a4-a72a-1931ce6bd627",
   "metadata": {},
   "outputs": [],
   "source": [
    "discounts = []"
   ]
  },
  {
   "cell_type": "code",
   "execution_count": 45,
   "id": "8dc35abb-3a9f-4cee-b64f-87318fa45f24",
   "metadata": {},
   "outputs": [
    {
     "name": "stdout",
     "output_type": "stream",
     "text": [
      "['وحدة تحكم ألعاب ريترو Supretro A19 لألعاب PS1 ثلاثية الأبعاد صندوق باندورا وحدة تحكم ألعاب محمولة IPS تدعم بطاقة Wifi TF ', 'مشغل ألعاب ريترو محمول من النوع C شحن شاشة 5.5 بوصة مشغل ألعاب فيديو مشغل ألعاب محمول MAME/FC/GBA/NES/GBC/GB/SFC/SMC ', 'مشغل فيديو جيب للأطفال والكبار ، بوصة ، IPS ، G ، WiFi ، نظام Linux ، + ألعاب ، 64 جم ، بطاقة G ', 'ps5tüJetsPS4/xbox one/360tüswitch.05. ', 'Retroid Pocket Classic 3.92 بوصة 1240*1080 شاشة Oled بلوتوث 5.1 Wifi5 أندرويد وحدة تحكم ألعاب محمولة مخصصة ', 'تتضمن بطاقة ذاكرة PSP2000 الأصلية سعة 32 جيجابايت و64 جيجابايت و128 جيجابايت ألعاب مجانية وألعاب مثبتة مسبقًا وجاهزة للعب/ألوان غنية ', 'وحدة تحكم ألعاب محمولة أصلية مجددة GBA عالية السطوع IPS LED تنطبق على وحدة تحكم الألعاب المتقدمة Game Boy ', '2025 جديد! حفظ مخرج Game Super HD لوحدة تحكم ألعاب الفيديو الصغيرة المحمولة SNES Retro Classic ومتوافقة مع HDMI ', 'وحدة تحكم ألعاب Retro GenesisTV مدمجة في 300 لعبة كلاسيكية نظام كمبيوتر عائلي يدعم خرطوشة ألعاب FC 8 بت، مع مسدس صاعق ', 'ريترو وحدة تحكم بجهاز لعب محمول 3.5 بوصة شاشة LCD 1200 مللي أمبير وحدة تحكم ألعاب الحنين لعبة فيديو وحدة تحكم لاعبين للأطفال البالغين ', 'وحدة تحكم ألعاب ريترو Supretro A19 لألعاب PS1 ثلاثية الأبعاد صندوق باندورا وحدة تحكم ألعاب محمولة IPS تدعم بطاقة Wifi TF ', 'مشغل ألعاب ريترو محمول من النوع C شحن شاشة 5.5 بوصة مشغل ألعاب فيديو مشغل ألعاب محمول MAME/FC/GBA/NES/GBC/GB/SFC/SMC ', 'مشغل فيديو جيب للأطفال والكبار ، بوصة ، IPS ، G ، WiFi ، نظام Linux ، + ألعاب ، 64 جم ، بطاقة G ', 'ps5tüJetsPS4/xbox one/360tüswitch.05. ', 'Retroid Pocket Classic 3.92 بوصة 1240*1080 شاشة Oled بلوتوث 5.1 Wifi5 أندرويد وحدة تحكم ألعاب محمولة مخصصة ', 'تتضمن بطاقة ذاكرة PSP2000 الأصلية سعة 32 جيجابايت و64 جيجابايت و128 جيجابايت ألعاب مجانية وألعاب مثبتة مسبقًا وجاهزة للعب/ألوان غنية ', 'وحدة تحكم ألعاب محمولة أصلية مجددة GBA عالية السطوع IPS LED تنطبق على وحدة تحكم الألعاب المتقدمة Game Boy ', '2025 جديد! حفظ مخرج Game Super HD لوحدة تحكم ألعاب الفيديو الصغيرة المحمولة SNES Retro Classic ومتوافقة مع HDMI ', 'وحدة تحكم ألعاب Retro GenesisTV مدمجة في 300 لعبة كلاسيكية نظام كمبيوتر عائلي يدعم خرطوشة ألعاب FC 8 بت، مع مسدس صاعق ', 'ريترو وحدة تحكم بجهاز لعب محمول 3.5 بوصة شاشة LCD 1200 مللي أمبير وحدة تحكم ألعاب الحنين لعبة فيديو وحدة تحكم لاعبين للأطفال البالغين ', 'وحدة تحكم ألعاب محمولة 4.5 بوصة IPS شاشة ريترو وحدة تحكم ألعاب فيديو محمولة مشغل ألعاب للأطفال والكبار ', 'G28 ريترو لعبة فيديو وحدة التحكم 128 جيجابايت وحدة تحكم بجهاز لعب محمول نظام لينكس 4.3 بوصة IPS شاشة المحمولة يده لاعب عصا التحكم هدية '] ['EGP4,439.91', 'EGP1,478.32', 'EGP5,104.77', 'EGP457.13', 'EGP9,819.5', 'EGP4,329.19', 'EGP6,585.8', 'EGP1,526.2', 'EGP1,162.2', 'EGP445.35', 'EGP4,439.91', 'EGP1,478.32', 'EGP5,104.77', 'EGP457.13', 'EGP9,819.5', 'EGP4,329.19', 'EGP6,585.8', 'EGP1,526.2', 'EGP1,162.2', 'EGP445.35', 'EGP1,596.47', 'EGP2,032.23'] ['%25-', '%56-', '%50-', '%50-', '%50-', '%50-', '%50-', '%55-', '%30-', 'No discount', 'No discount', 'No discount']\n"
     ]
    }
   ],
   "source": [
    "for name, p, d in zip_longest(vedio_games_name, price, discount, fillvalue=None):\n",
    "    vedio_games_names.append(name.text if name else \"No name\")\n",
    "    prices.append(p.text if p else \"Price not available\")\n",
    "    discounts.append(d.text if d else \"No discount\")\n",
    "\n",
    "print(vedio_games_names, prices, discounts)"
   ]
  },
  {
   "cell_type": "code",
   "execution_count": 52,
   "id": "b4db070e-097c-448a-bebd-a0cdf3399191",
   "metadata": {},
   "outputs": [],
   "source": [
    "my_list = [vedio_games_names, prices, discounts]\n",
    "emport = zip_longest(*my_list)\n",
    "\n",
    "with open(\"s2.csv\", \"w\", newline=\"\", encoding=\"utf-8\") as myFile:\n",
    "    wr = csv.writer(myFile)\n",
    "    wr.writerow([\"vedio_games_name\", \"price\", \"discount\"])\n",
    "    wr.writerows(emport)"
   ]
  },
  {
   "cell_type": "code",
   "execution_count": null,
   "id": "e6fd6823-4662-4e75-a079-1eb32d380499",
   "metadata": {},
   "outputs": [],
   "source": []
  }
 ],
 "metadata": {
  "kernelspec": {
   "display_name": "Python 3 (ipykernel)",
   "language": "python",
   "name": "python3"
  },
  "language_info": {
   "codemirror_mode": {
    "name": "ipython",
    "version": 3
   },
   "file_extension": ".py",
   "mimetype": "text/x-python",
   "name": "python",
   "nbconvert_exporter": "python",
   "pygments_lexer": "ipython3",
   "version": "3.12.7"
  }
 },
 "nbformat": 4,
 "nbformat_minor": 5
}
